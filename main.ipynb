{
 "cells": [
  {
   "cell_type": "code",
   "execution_count": 33,
   "metadata": {
    "collapsed": true
   },
   "outputs": [],
   "source": [
    "import numpy as np\n",
    "import torch.optim\n",
    "from scipy.optimize import minimize, least_squares, LinearConstraint, NonlinearConstraint\n",
    "import torch.nn as nn\n",
    "from torch.autograd import Variable\n",
    "from enum import Enum"
   ]
  },
  {
   "cell_type": "code",
   "execution_count": 34,
   "outputs": [
    {
     "name": "stdout",
     "output_type": "stream",
     "text": [
      "-5.184144020080566\n",
      "4.786238670349121\n"
     ]
    }
   ],
   "source": [
    "#Example 1\n",
    "\n",
    "#Excepted coeffs\n",
    "w1 = -5.201\n",
    "w2 = 4.789\n",
    "\n",
    "#Points\n",
    "N = 50\n",
    "deviation = 0.05\n",
    "noise = torch.randn(N, 1) * deviation\n",
    "X = torch.randn(N, 1)\n",
    "Y = w1 * X + w2 + noise\n",
    "\n",
    "#main\n",
    "mse = nn.MSELoss()\n",
    "model = nn.Linear(1, 1)\n",
    "optimizer = torch.optim.SGD(model.parameters(), lr=0.01)\n",
    "\n",
    "for i in range(1000):\n",
    "    optimizer.zero_grad()\n",
    "    predictions = model(X)\n",
    "    loss = mse(predictions, Y)\n",
    "    loss.backward()\n",
    "    optimizer.step()\n",
    "\n",
    "print(list(model.parameters())[0].data[0, 0].item())\n",
    "print(list(model.parameters())[1].data[0].item())"
   ],
   "metadata": {
    "collapsed": false
   }
  },
  {
   "cell_type": "code",
   "execution_count": 35,
   "outputs": [
    {
     "name": "stdout",
     "output_type": "stream",
     "text": [
      "-2.285088300704956\n",
      "9.04959487915039\n",
      "117.9586410522461\n",
      "103.04818725585938\n"
     ]
    }
   ],
   "source": [
    "#Example 2\n",
    "\n",
    "#Excepted coeffs\n",
    "w1 = -2.34\n",
    "w2 = 8.987\n",
    "w3 = 118.12\n",
    "w4 = 103.1\n",
    "\n",
    "#Points\n",
    "N = 100\n",
    "deviation = 0.01\n",
    "noise = torch.randn(N, 1) * deviation\n",
    "X = torch.randn(N, 1)\n",
    "Y = w1 * (X ** 3) + w2 * (X ** 2) + w3 * X + w4 + noise\n",
    "\n",
    "#main\n",
    "v1 = Variable(torch.randn(1), requires_grad=True)\n",
    "v2 = Variable(torch.randn(1), requires_grad=True)\n",
    "v3 = Variable(torch.randn(1), requires_grad=True)\n",
    "v4 = Variable(torch.randn(1), requires_grad=True)\n",
    "mse = nn.MSELoss()\n",
    "optimizer = torch.optim.SGD([v1, v2, v3, v4], lr=0.01)\n",
    "\n",
    "for i in range(1500):\n",
    "    optimizer.zero_grad()\n",
    "    model = v1 * (X ** 3) + v2 * (X ** 2) + v3 * X + v4\n",
    "    loss = mse(model, Y)\n",
    "    loss.backward()\n",
    "    optimizer.step()\n",
    "    # if i == 999:\n",
    "    #     print(loss)\n",
    "\n",
    "print(v1.item())\n",
    "print(v2.item())\n",
    "print(v3.item())\n",
    "print(v4.item())"
   ],
   "metadata": {
    "collapsed": false
   }
  },
  {
   "cell_type": "code",
   "execution_count": 36,
   "outputs": [],
   "source": [
    "Methods = Enum('Methods', ['Classic', 'Momentum', 'AdaGrad', 'RMSprop', 'Adam', 'Nesterov'])\n",
    "\n",
    "\n",
    "def optimizer_handler(method, params, lr, beta_1=0.9, beta_2=0.999):\n",
    "    match method:\n",
    "        case Methods.Classic:\n",
    "            return torch.optim.SGD(params, lr)\n",
    "        case Methods.Momentum:\n",
    "            return torch.optim.SGD(params, lr, beta_1)\n",
    "        case Methods.AdaGrad:\n",
    "            return torch.optim.Adagrad(params, lr)\n",
    "        case Methods.RMSprop:\n",
    "            return torch.optim.RMSprop(params, lr, alpha=beta_2)\n",
    "        case Methods.Adam:\n",
    "            return torch.optim.Adam(params, lr, betas=(beta_1, beta_2))\n",
    "        case Methods.Nesterov:\n",
    "            return torch.optim.SGD(params, lr, nesterov=True, momentum=beta_1)\n",
    "\n",
    "\n",
    "class TorchLinearRegression:\n",
    "    def __init__(self, T, X, Y):\n",
    "        self.T = torch.zeros(len(X), len(T))\n",
    "        for i in range(len(X)):\n",
    "            for j in range(len(T)):\n",
    "                self.T.data[i, j] = T[j](X.data[i])\n",
    "        self.X = X\n",
    "        self.Y = Y\n",
    "        self.W = Variable(torch.randn(len(T), 1), requires_grad=True)\n",
    "\n",
    "    def optimize(self, method=Methods.Classic, loss=nn.MSELoss(), lr=0.01, max_steps=1500):\n",
    "        optimizer = optimizer_handler(method, [self.W], lr)\n",
    "\n",
    "        for i in range(max_steps):\n",
    "            optimizer.zero_grad()\n",
    "            model_i = self.T.mm(self.W)\n",
    "            loss_i = loss(model_i, self.Y)\n",
    "            loss_i.backward()\n",
    "            optimizer.step()\n",
    "\n",
    "        return self.W"
   ],
   "metadata": {
    "collapsed": false
   }
  },
  {
   "cell_type": "code",
   "execution_count": 37,
   "outputs": [
    {
     "name": "stdout",
     "output_type": "stream",
     "text": [
      "Excepted: [ -2.34    8.987 118.12  103.1  ]\n",
      "Received: [ -2.3353214   8.985972  118.102135  103.10001  ]\n",
      "Absolute error: 0.018496323208873146\n",
      "Relative error: 0.00011776515203422417\n"
     ]
    }
   ],
   "source": [
    "#Example 3\n",
    "\n",
    "#Excepted\n",
    "excepted = np.array([-2.34, 8.987, 118.12, 103.1])\n",
    "M = len(excepted)\n",
    "\n",
    "#Parameters\n",
    "N = 100\n",
    "deviation = 0.01\n",
    "noise = torch.randn(N, 1) * deviation\n",
    "powers = [(M - 1 - i) for i in range(M)]\n",
    "Funcs = np.array([lambda x, i=i: (x ** powers[i]) for i in range(M)])\n",
    "X1 = torch.randn(N, 1)\n",
    "Y1 = sum([excepted[i] * Funcs[i](X1) for i in range(M)]) + noise\n",
    "\n",
    "#Calculations\n",
    "lin_reg = TorchLinearRegression(Funcs, X1, Y1)\n",
    "received = lin_reg.optimize().detach().numpy().reshape(1, len(Funcs))[0]\n",
    "print(\"Excepted: \" + str(excepted))\n",
    "print(\"Received: \" + str(received))\n",
    "print(\"Absolute error: \" + str(np.linalg.norm(excepted - received)))\n",
    "print(\"Relative error: \" + str(np.linalg.norm(excepted - received) / np.linalg.norm(excepted)))"
   ],
   "metadata": {
    "collapsed": false
   }
  }
 ],
 "metadata": {
  "kernelspec": {
   "display_name": "Python 3",
   "language": "python",
   "name": "python3"
  },
  "language_info": {
   "codemirror_mode": {
    "name": "ipython",
    "version": 2
   },
   "file_extension": ".py",
   "mimetype": "text/x-python",
   "name": "python",
   "nbconvert_exporter": "python",
   "pygments_lexer": "ipython2",
   "version": "2.7.6"
  }
 },
 "nbformat": 4,
 "nbformat_minor": 0
}
