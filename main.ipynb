{
 "cells": [
  {
   "cell_type": "code",
   "execution_count": 414,
   "metadata": {
    "collapsed": true
   },
   "outputs": [],
   "source": [
    "import numpy as np\n",
    "import torch.optim\n",
    "from scipy.optimize import minimize, least_squares, LinearConstraint, NonlinearConstraint\n",
    "import torch.nn as nn\n",
    "from torch.autograd import Variable\n",
    "from enum import Enum\n",
    "from torch import float64\n",
    "from numdifftools import Jacobian, Hessian"
   ]
  },
  {
   "cell_type": "code",
   "execution_count": 415,
   "outputs": [],
   "source": [
    "Methods = Enum('Methods', ['Classic', 'Momentum', 'AdaGrad', 'RMSprop', 'Adam', 'Nesterov'])\n",
    "\n",
    "\n",
    "def optimizer_handler(method, params, lr, beta_1=0.9, beta_2=0.999):\n",
    "    match method:\n",
    "        case Methods.Classic:\n",
    "            return torch.optim.SGD(params, lr)\n",
    "        case Methods.Momentum:\n",
    "            return torch.optim.SGD(params, lr, beta_1)\n",
    "        case Methods.AdaGrad:\n",
    "            return torch.optim.Adagrad(params, lr)\n",
    "        case Methods.RMSprop:\n",
    "            return torch.optim.RMSprop(params, lr, alpha=beta_2)\n",
    "        case Methods.Adam:\n",
    "            return torch.optim.Adam(params, lr, betas=(beta_1, beta_2))\n",
    "        case Methods.Nesterov:\n",
    "            return torch.optim.SGD(params, lr, nesterov=True, momentum=beta_1)\n",
    "\n",
    "\n",
    "class TorchLinearRegression:\n",
    "    def __init__(self, T, X, Y):\n",
    "        self.T = torch.zeros(len(X), len(T))\n",
    "        for i in range(len(X)):\n",
    "            for j in range(len(T)):\n",
    "                self.T.data[i, j] = T[j](X.data[i])\n",
    "        self.X = X\n",
    "        self.Y = Y\n",
    "        self.W = Variable(torch.randn(len(T), 1), requires_grad=True)\n",
    "\n",
    "    def optimize(self, method=Methods.Classic, loss=nn.MSELoss(), lr=0.01, max_steps=1500):\n",
    "        optimizer = optimizer_handler(method, [self.W], lr)\n",
    "\n",
    "        for i in range(max_steps):\n",
    "            optimizer.zero_grad()\n",
    "            model_i = self.T.mm(self.W)\n",
    "            loss_i = loss(model_i, self.Y)\n",
    "            loss_i.backward()\n",
    "            optimizer.step()\n",
    "\n",
    "        return self.W"
   ],
   "metadata": {
    "collapsed": false
   }
  },
  {
   "cell_type": "code",
   "execution_count": 416,
   "outputs": [
    {
     "name": "stdout",
     "output_type": "stream",
     "text": [
      "Excepted: [ -2.34    8.987 118.12  103.1  ]\n",
      "Received: [ -2.3387651   8.986704  118.113815  103.1      ]\n",
      "Absolute error: 0.006313713809522713\n",
      "Relative error: 4.0199095694993615e-05\n"
     ]
    }
   ],
   "source": [
    "#Example 3\n",
    "\n",
    "#Excepted\n",
    "excepted = np.array([-2.34, 8.987, 118.12, 103.1])\n",
    "M = len(excepted)\n",
    "\n",
    "#Parameters\n",
    "N = 100\n",
    "deviation = 0.01\n",
    "noise = torch.randn(N, 1) * deviation\n",
    "powers = [(M - 1 - i) for i in range(M)]\n",
    "Funcs = np.array([lambda x, i=i: (x ** powers[i]) for i in range(M)])\n",
    "X1 = torch.randn(N, 1)\n",
    "Y1 = sum([excepted[i] * Funcs[i](X1) for i in range(M)]) + noise\n",
    "\n",
    "#Calculations\n",
    "lin_reg = TorchLinearRegression(Funcs, X1, Y1)\n",
    "received = lin_reg.optimize().detach().numpy().reshape(1, len(Funcs))[0]\n",
    "print(\"Excepted: \" + str(excepted))\n",
    "print(\"Received: \" + str(received))\n",
    "print(\"Absolute error: \" + str(np.linalg.norm(excepted - received)))\n",
    "print(\"Relative error: \" + str(np.linalg.norm(excepted - received) / np.linalg.norm(excepted)))"
   ],
   "metadata": {
    "collapsed": false
   }
  },
  {
   "cell_type": "code",
   "execution_count": 417,
   "outputs": [],
   "source": [
    "Algorithms = Enum('Methods', ['Newton', 'DogLeg', 'BFGS', 'LBFGS'])\n",
    "\n",
    "\n",
    "def optimize_handler(fun, x0, algorithm=Algorithms.Newton):\n",
    "    def fun_jac(x):\n",
    "        return Jacobian(lambda x: fun(x))(x).ravel()\n",
    "\n",
    "    def fun_hess(x):\n",
    "        return Hessian(lambda x: fun(x))(x)\n",
    "\n",
    "    match algorithm:\n",
    "        case Algorithms.Newton:\n",
    "            return least_squares(fun, x0)\n",
    "        case Algorithms.DogLeg:\n",
    "            return minimize(fun, x0, method='dogleg', jac=fun_jac, hess=fun_hess)\n",
    "        case Algorithms.BFGS:\n",
    "            return minimize(fun, x0, method='BFGS')\n",
    "        case Algorithms.LBFGS:\n",
    "            return minimize(fun, x0, method='L-BFGS-B')"
   ],
   "metadata": {
    "collapsed": false
   }
  },
  {
   "cell_type": "code",
   "execution_count": 418,
   "outputs": [
    {
     "name": "stdout",
     "output_type": "stream",
     "text": [
      "Excepted: [ -2.34    8.987 118.12  103.1  ]\n",
      "Received: [ -2.33967311   8.98772569 118.12032457 103.09883301]\n",
      "Absolute error: 0.0014493753585504343\n",
      "Relative error: 9.228099418833025e-06\n"
     ]
    }
   ],
   "source": [
    "#Example 4\n",
    "\n",
    "#Excepted\n",
    "excepted = np.array([-2.34, 8.987, 118.12, 103.1])\n",
    "M = len(excepted)\n",
    "\n",
    "#Parameters\n",
    "N = 100\n",
    "deviation = 0.01\n",
    "noise = torch.randn(N, 1) * deviation\n",
    "powers = [(M - 1 - i) for i in range(M)]\n",
    "Funcs = np.array([lambda x, i=i: (x ** powers[i]) for i in range(M)])\n",
    "X1 = torch.randn(N, 1)\n",
    "Y1 = sum([excepted[i] * Funcs[i](X1) for i in range(M)]) + noise\n",
    "\n",
    "\n",
    "#Function\n",
    "def f1(W):\n",
    "    W1 = np.copy(W).reshape(len(Funcs), 1)\n",
    "    W1 = torch.tensor(W1, dtype=float64)\n",
    "    T = torch.zeros(len(X1), len(Funcs), dtype=float64)\n",
    "    for i in range(len(X1)):\n",
    "        for j in range(len(Funcs)):\n",
    "            T.data[i, j] = Funcs[j](X1.data[i])\n",
    "    model = T.mm(W1)\n",
    "    mse = nn.MSELoss()\n",
    "    return mse(model, Y1).item()\n",
    "\n",
    "\n",
    "#Calculations\n",
    "x0 = torch.randn(M).detach().numpy().reshape(1, len(Funcs))[0]\n",
    "received = optimize_handler(f1, x0, Algorithms.DogLeg).x\n",
    "print(\"Excepted: \" + str(excepted))\n",
    "print(\"Received: \" + str(received))\n",
    "print(\"Absolute error: \" + str(np.linalg.norm(excepted - received)))\n",
    "print(\"Relative error: \" + str(np.linalg.norm(excepted - received) / np.linalg.norm(excepted)))"
   ],
   "metadata": {
    "collapsed": false
   }
  },
  {
   "cell_type": "code",
   "execution_count": 418,
   "outputs": [],
   "source": [],
   "metadata": {
    "collapsed": false
   }
  }
 ],
 "metadata": {
  "kernelspec": {
   "display_name": "Python 3",
   "language": "python",
   "name": "python3"
  },
  "language_info": {
   "codemirror_mode": {
    "name": "ipython",
    "version": 2
   },
   "file_extension": ".py",
   "mimetype": "text/x-python",
   "name": "python",
   "nbconvert_exporter": "python",
   "pygments_lexer": "ipython2",
   "version": "2.7.6"
  }
 },
 "nbformat": 4,
 "nbformat_minor": 0
}
